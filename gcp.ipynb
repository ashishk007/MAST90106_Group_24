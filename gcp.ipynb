{
 "cells": [
  {
   "cell_type": "code",
   "execution_count": 1,
   "metadata": {},
   "outputs": [],
   "source": [
    "# pip install -U pip google-cloud-vision\n",
    "# pip install opencv-contrib-python"
   ]
  },
  {
   "cell_type": "code",
   "execution_count": 2,
   "metadata": {},
   "outputs": [],
   "source": [
    "# import the necessary packages\n",
    "from google.oauth2 import service_account\n",
    "from google.cloud import vision\n",
    "import argparse\n",
    "import cv2\n",
    "import io\n",
    "import numpy as np\n",
    "import time, os\n",
    "import pandas as pd"
   ]
  },
  {
   "cell_type": "code",
   "execution_count": 3,
   "metadata": {},
   "outputs": [],
   "source": [
    "# export GOOGLE_APPLICATION_CREDENTIALS=\"ds-mcri-360405-477968334e7c.json\""
   ]
  },
  {
   "cell_type": "code",
   "execution_count": 4,
   "metadata": {},
   "outputs": [],
   "source": [
    "def detect_text(path):\n",
    "    \"\"\"Detects text in the file.\"\"\"\n",
    "\n",
    "    each_full_detection = []\n",
    "\n",
    "    from google.cloud import vision\n",
    "    import io\n",
    "\n",
    "    # Connect to the online service\n",
    "    creds = service_account.Credentials.from_service_account_file('ds-mcri-360405-477968334e7c.json')\n",
    "    client = vision.ImageAnnotatorClient(credentials=creds,)\n",
    "\n",
    "    with io.open(path, 'rb') as image_file:\n",
    "        content = image_file.read()\n",
    "\n",
    "    image = vision.Image(content=content)\n",
    "\n",
    "    response = client.text_detection(image=image)\n",
    "    texts = response.text_annotations\n",
    "    \n",
    "    # Print each detected word without line break marks\n",
    "    for text in texts:\n",
    "        text_content = '\"{}\"'.format(text.description)\n",
    "        each_full_detection.append(text_content)\n",
    "    return each_full_detection\n",
    "\n",
    "    # Print cooresponding bounding box of each detected word\n",
    "    #     vertices = (['({},{})'.format(vertex.x, vertex.y)\n",
    "    #                 for vertex in text.bounding_poly.vertices])\n",
    "\n",
    "    #     print('bounds: {}'.format(','.join(vertices)))\n",
    "\n",
    "    if response.error.message:\n",
    "        raise Exception(\n",
    "            '{}\\nFor more info on error messages, check: '\n",
    "            'https://cloud.google.com/apis/design/errors'.format(\n",
    "                response.error.message))"
   ]
  },
  {
   "cell_type": "code",
   "execution_count": 5,
   "metadata": {},
   "outputs": [],
   "source": [
    "all_detected = {}\n",
    "test_images_dir = os.path.join('hpf_test')\n",
    "all_image_names = sorted(os.listdir(test_images_dir))\n",
    "all_image_paths = [test_images_dir+'/'+ name for name in all_image_names]\n",
    "for each_path in all_image_paths:\n",
    "    all_detected[each_path] = detect_text(each_path)[0].replace(\"\\n\", \" \").strip() "
   ]
  },
  {
   "cell_type": "code",
   "execution_count": 6,
   "metadata": {},
   "outputs": [
    {
     "data": {
      "text/plain": [
       "10"
      ]
     },
     "execution_count": 6,
     "metadata": {},
     "output_type": "execute_result"
    }
   ],
   "source": [
    "len(all_detected)"
   ]
  },
  {
   "cell_type": "code",
   "execution_count": 7,
   "metadata": {},
   "outputs": [],
   "source": [
    "df_detexted = pd.DataFrame(all_detected.items(), columns=['ImageIndex', 'DetectedContent'])\n",
    "df_detexted.to_csv(\"df_GCPdetexted.csv\")"
   ]
  },
  {
   "cell_type": "code",
   "execution_count": 8,
   "metadata": {},
   "outputs": [],
   "source": [
    "#all_detected[\"hpf_test/testImage01.jpg\"]"
   ]
  },
  {
   "cell_type": "code",
   "execution_count": 9,
   "metadata": {},
   "outputs": [],
   "source": [
    "# result_detected = {}\n",
    "# result_images_dir = os.path.join('resultImage')\n",
    "# image_names = sorted(os.listdir(result_images_dir))\n",
    "# image_paths = [result_images_dir+'/'+ name for name in image_names]\n",
    "# for each_path in image_paths:\n",
    "#     result_detected[each_path] = detect_text(each_path)[0].replace(\"\\n\", \" \").strip() "
   ]
  },
  {
   "cell_type": "code",
   "execution_count": 11,
   "metadata": {},
   "outputs": [],
   "source": [
    "# len(result_detected)"
   ]
  },
  {
   "cell_type": "code",
   "execution_count": 12,
   "metadata": {},
   "outputs": [],
   "source": [
    "# result_df_detexted = pd.DataFrame(result_detected.items(), columns=['ImageIndex', 'DetectedContent'])\n",
    "# result_df_detexted.to_csv(\"result_df_detexted.csv\")"
   ]
  }
 ],
 "metadata": {
  "kernelspec": {
   "display_name": "Python 3.9.6 64-bit",
   "language": "python",
   "name": "python3"
  },
  "language_info": {
   "codemirror_mode": {
    "name": "ipython",
    "version": 3
   },
   "file_extension": ".py",
   "mimetype": "text/x-python",
   "name": "python",
   "nbconvert_exporter": "python",
   "pygments_lexer": "ipython3",
   "version": "3.9.6"
  },
  "orig_nbformat": 4,
  "vscode": {
   "interpreter": {
    "hash": "aee8b7b246df8f9039afb4144a1f6fd8d2ca17a180786b69acc140d282b71a49"
   }
  }
 },
 "nbformat": 4,
 "nbformat_minor": 2
}
