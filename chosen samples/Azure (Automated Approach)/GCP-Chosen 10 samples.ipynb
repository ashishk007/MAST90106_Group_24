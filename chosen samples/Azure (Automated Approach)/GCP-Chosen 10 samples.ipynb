{
 "cells": [
  {
   "cell_type": "code",
   "execution_count": 56,
   "metadata": {},
   "outputs": [],
   "source": [
    "import time, os\n",
    "from google.oauth2 import service_account\n",
    "from google.cloud import vision\n",
    "import argparse\n",
    "import cv2\n",
    "import io\n",
    "import numpy as np\n",
    "import csv\n",
    "import pandas as pd\n",
    "import re\n",
    "import numpy as np\n"
   ]
  },
  {
   "cell_type": "code",
   "execution_count": 57,
   "metadata": {},
   "outputs": [],
   "source": [
    "# Connect to the online service\n",
    "\n",
    "def detect_document(path):\n",
    "    \"\"\"Detects document features in an image.\"\"\"\n",
    "    from google.cloud import vision\n",
    "    import io\n",
    "    creds = service_account.Credentials.from_service_account_file('../../ds-mcri-360405-477968334e7c.json')\n",
    "    client = vision.ImageAnnotatorClient(credentials=creds,)\n",
    "\n",
    "    # [START vision_python_migration_document_text_detection]\n",
    "    with io.open(path, 'rb') as image_file:\n",
    "        content = image_file.read()\n",
    "\n",
    "    image = vision.Image(content=content)\n",
    "\n",
    "    response = client.document_text_detection(image=image)\n",
    "\n",
    "    if response.error.message:\n",
    "        raise Exception(\n",
    "            '{}\\nFor more info on error messages, check: '\n",
    "            'https://cloud.google.com/apis/design/errors'.format(\n",
    "                response.error.message))\n",
    "    return response"
   ]
  },
  {
   "cell_type": "code",
   "execution_count": 58,
   "metadata": {},
   "outputs": [],
   "source": [
    "'''\n",
    "Creating csv files of extracted text\n",
    "'''\n",
    "def GCP_create_output(filename, num_samples):\n",
    "    for i in range(num_samples):\n",
    "        results = detect_document(filename+str(i+1)+'.png')\n",
    "        output = []\n",
    "        output.append(('Text', 'Confidence'))\n",
    "        for page in results.full_text_annotation.pages:\n",
    "            for block in page.blocks:\n",
    "                for paragraph in block.paragraphs:\n",
    "                    for word in paragraph.words:\n",
    "                        word_text = ''.join([\n",
    "                            symbol.text for symbol in word.symbols\n",
    "                        ])\n",
    "                        output.append((word_text, word.confidence))\n",
    "                        \n",
    "        with open('GCP_'+filename+str(i+1)+'_output.csv', \"a\", newline=\"\", encoding=\"utf-8\") as f:\n",
    "            writer = csv.writer(f)\n",
    "            writer.writerows(output)\n",
    "        f.close()\n",
    "            \n",
    "samples_medium = 3\n",
    "samples_bad = 3\n",
    "samples_good = 4\n",
    "\n",
    "filename_medium = 'mediumchart_'\n",
    "filename_bad = 'badchart_'\n",
    "filename_good = 'goodchart_'\n",
    "#medium handwriting quality\n",
    "GCP_create_output(filename_medium, samples_medium)\n",
    "#bad handwriting quality\n",
    "GCP_create_output(filename_bad, samples_bad)\n",
    "#good handwriting quality\n",
    "GCP_create_output(filename_good, samples_good)"
   ]
  },
  {
   "cell_type": "code",
   "execution_count": 59,
   "metadata": {},
   "outputs": [],
   "source": [
    "def GCP_extract_all_zones(filename, num_samples):\n",
    "    #extracted_list = []\n",
    "    comparison_df_list = []\n",
    "\n",
    "    for k in range(num_samples):\n",
    "        output_df = pd.read_csv('GCP_'+filename+str(k+1)+'_output.csv')\n",
    "\n",
    "        #Zone 1 (Patient information)\n",
    "        fields = ['URN', 'Family', 'Given', 'Address', 'Birth', 'Sex']\n",
    "        extracted = {key: None for key in fields}\n",
    "        confidence = []\n",
    "\n",
    "        for i, key in enumerate(fields): \n",
    "            if i == 1 or i == 2:\n",
    "                index = (output_df.index[output_df['Text'].str.contains(key, case=False)] + 2)[0]\n",
    "                extracted[key] = output_df.iloc[index]['Text']\n",
    "                confidence.append(output_df.iloc[index]['Confidence'])\n",
    "            else:\n",
    "                try:\n",
    "                    index = (output_df.index[output_df['Text'].str.contains(key, case=False)] + 1)[0]\n",
    "                    extracted[key] = output_df.iloc[index]['Text']\n",
    "                    confidence.append(output_df.iloc[index]['Confidence'])\n",
    "                except IndexError:\n",
    "                    extracted[key] = ' '\n",
    "                    confidence.append(0)\n",
    "            \n",
    "\n",
    "        #Zone 2 (Medication information)\n",
    "        medication_fields = ['Date', 'Medicine', 'Route', 'Dose', 'Indication', 'Prescriber']\n",
    "\n",
    "        for i, key in enumerate(medication_fields):\n",
    "            if i == 0:\n",
    "                index = (output_df.index[output_df['Text'].str.contains('generic', case=False)] + (i+2))[0]\n",
    "            elif i == 1:\n",
    "                index_start = (output_df.index[output_df['Text'].str.contains('generic', case=False)] + (i+2))[0]\n",
    "                index_end = (output_df.index[output_df['Text'].str.contains('Date', case=False)])[2]\n",
    "                value = \"\"\n",
    "                for j in range(index_start, index_end):\n",
    "                    value += output_df.iloc[j]['Text'] + ' '\n",
    "                extracted[key] = value.strip()\n",
    "                confidence.append(output_df.iloc[index_start]['Confidence'])\n",
    "            elif i == 2:\n",
    "                    index = (output_df.index[output_df['Text'].str.contains('hrs', case=False)] + 1)[0]\n",
    "            elif i == 3:\n",
    "                extracted[key] = output_df.iloc[index + 1]['Text'] + ' ' + output_df.iloc[index + 2]['Text']\n",
    "                confidence.append(output_df.iloc[index + 1]['Confidence'])\n",
    "            elif i == 4:\n",
    "                index_start = (output_df.index[output_df['Text'].str.contains('indication', case=False)])[0]\n",
    "                index_end = (output_df.index[output_df['Text'].str.contains('pharmacy', case=False)])[0]\n",
    "                value = \"\"\n",
    "                for j in range(index_start+1, index_end):\n",
    "                    value += output_df.iloc[j]['Text'] + ' '\n",
    "                extracted[key] = value.strip()\n",
    "                confidence.append(output_df.iloc[index_start + 1]['Confidence'])\n",
    "            elif i == 5:\n",
    "                index = (output_df.index[output_df['Text'].str.contains('contact', case=False)] + 1)[0]\n",
    "                extracted[key] = output_df.iloc[index]['Text'] + ' ' + output_df.iloc[index + 1]['Text']\n",
    "                confidence.append(output_df.iloc[index]['Confidence'])\n",
    "\n",
    "            if i == 0 or i == 2:\n",
    "                extracted[key] = output_df.iloc[index]['Text']\n",
    "                confidence.append(output_df.iloc[index]['Confidence'])\n",
    "\n",
    "        #Zone 3 (Dosage information)\n",
    "        dosage_fields = ['Date1', 'Date2', 'Time1', 'Time2', 'Dose1', 'Dose2', 'Route1', 'Route2']\n",
    "\n",
    "        for i, key in enumerate(dosage_fields):\n",
    "            if i == 0:\n",
    "                index = (output_df.index[output_df['Text'].str.contains('yes', case=False)] - 1)[0]\n",
    "                split_date = output_df.iloc[index]['Text'].split(\"/\", 2)\n",
    "                dates = \"/\".join(split_date[:2]), \"/\".join(split_date[2:])\n",
    "                extracted[key] = dates[i]\n",
    "                confidence.append(output_df.iloc[index]['Confidence'])\n",
    "            elif i == 1:\n",
    "                extracted[key] = dates[i]\n",
    "                confidence.append(output_df.iloc[index]['Confidence'])\n",
    "            elif i == 2:\n",
    "                index = (output_df.index[output_df['Text'].str.contains('time', case=False)])[0]\n",
    "                extracted[key] = output_df.iloc[index+1]['Text']\n",
    "                confidence.append(output_df.iloc[index+1]['Confidence'])\n",
    "            elif i == 3:\n",
    "                extracted[key] = output_df.iloc[index+2]['Text']\n",
    "                confidence.append(output_df.iloc[index+2]['Confidence'])\n",
    "            elif i == 4:\n",
    "                index = (output_df.index[output_df['Text'].str.contains('pharmacy', case=False)])[0]\n",
    "                extracted[key] = output_df.iloc[index+2]['Text']\n",
    "                confidence.append(output_df.iloc[index+2]['Confidence'])\n",
    "            elif i == 5:\n",
    "                extracted[key] = output_df.iloc[index+3]['Text']\n",
    "                confidence.append(output_df.iloc[index+3]['Confidence'])\n",
    "            elif i == 6:\n",
    "                index = (output_df.index[output_df['Text'].str.contains('route', case=False)])[1]\n",
    "                route = output_df.iloc[index+1]['Text']\n",
    "                match= re.match(r'(.*?)(?:\\1)*$', route)\n",
    "                word= match.group(1)\n",
    "                extracted[key] = word\n",
    "                confidence.append(output_df.iloc[index+1]['Confidence'])\n",
    "            elif i == 7:\n",
    "                extracted[key] = word\n",
    "                confidence.append(output_df.iloc[index+1]['Confidence'])\n",
    "\n",
    "        #print(extracted)\n",
    "        #print(confidence)\n",
    "        comparison_df = pd.read_csv(filename+str(k+1)+'_truelabels.csv')\n",
    "        comparison_df['Extracted'] = list(extracted.values())\n",
    "        comparison_column = np.where(comparison_df[\"Ground Truth\"].str.lower() == comparison_df[\"Extracted\"].str.lower(), 1, 0)\n",
    "        comparison_df['match'] = comparison_column\n",
    "        comparison_df['confidence'] = confidence\n",
    "\n",
    "        #extracted_list.append(extracted)\n",
    "        comparison_df_list.append(comparison_df)\n",
    "        \n",
    "    return comparison_df_list\n",
    "\n",
    "\n",
    "GCP_comparison_df_medium = GCP_extract_all_zones(filename_medium, samples_medium)\n",
    "GCP_comparison_df_bad = GCP_extract_all_zones(filename_bad, samples_bad)\n",
    "GCP_comparison_df_good = GCP_extract_all_zones(filename_good, samples_good)"
   ]
  },
  {
   "cell_type": "code",
   "execution_count": 60,
   "metadata": {},
   "outputs": [],
   "source": [
    "def GCP_get_accuracy(comparison_df_list, num_samples):\n",
    "    accuracy_df = comparison_df_list[0].loc[:, ['Field']]\n",
    "    accuracy_df['Sum matches'] = 0\n",
    "    for df in comparison_df_list:\n",
    "        accuracy_df['Sum matches'] += df['match'] \n",
    "\n",
    "    accuracy_df['Accuracy'] = accuracy_df['Sum matches']/num_samples\n",
    "    \n",
    "    return accuracy_df\n",
    "\n",
    "GCP_accuracy_df_medium = GCP_get_accuracy(GCP_comparison_df_medium, samples_medium)\n",
    "GCP_accuracy_df_bad = GCP_get_accuracy(GCP_comparison_df_bad, samples_bad)\n",
    "GCP_accuracy_df_good = GCP_get_accuracy(GCP_comparison_df_good, samples_good)"
   ]
  },
  {
   "cell_type": "code",
   "execution_count": 61,
   "metadata": {},
   "outputs": [],
   "source": [
    "def GCP_get_contingency(comparison_df_list, threshold):\n",
    "    field_names = comparison_df_list[0]['Field'].tolist()\n",
    "    merged_cols = pd.DataFrame(columns = ['Confidence', 'TF'])\n",
    "    index = 0\n",
    "\n",
    "    for name in field_names:\n",
    "        for df in comparison_df_list:\n",
    "            confidence_score = df.loc[df['Field'] == name, 'confidence'].iloc[0]\n",
    "            TF = df.loc[df['Field'] == name, 'match'].iloc[0]\n",
    "            merged_cols.loc[index] = [confidence_score] + [TF]\n",
    "            index += 1\n",
    "\n",
    "    return pd.crosstab(merged_cols['Confidence'].astype(float) > threshold , \\\n",
    "                           (merged_cols['TF'] == 1), \\\n",
    "                           rownames=['90'], colnames=['actual'])\n",
    "\n",
    "GCP_contingency_medium = GCP_get_contingency(GCP_comparison_df_medium, 0.9)\n",
    "GCP_contingency_bad = GCP_get_contingency(GCP_comparison_df_bad, 0.9)\n",
    "GCP_contingency_good = GCP_get_contingency(GCP_comparison_df_good, 0.9)"
   ]
  },
  {
   "cell_type": "code",
   "execution_count": 62,
   "metadata": {
    "scrolled": true
   },
   "outputs": [
    {
     "data": {
      "text/html": [
       "<div>\n",
       "<style scoped>\n",
       "    .dataframe tbody tr th:only-of-type {\n",
       "        vertical-align: middle;\n",
       "    }\n",
       "\n",
       "    .dataframe tbody tr th {\n",
       "        vertical-align: top;\n",
       "    }\n",
       "\n",
       "    .dataframe thead th {\n",
       "        text-align: right;\n",
       "    }\n",
       "</style>\n",
       "<table border=\"1\" class=\"dataframe\">\n",
       "  <thead>\n",
       "    <tr style=\"text-align: right;\">\n",
       "      <th>actual</th>\n",
       "      <th>False</th>\n",
       "      <th>True</th>\n",
       "    </tr>\n",
       "    <tr>\n",
       "      <th>90</th>\n",
       "      <th></th>\n",
       "      <th></th>\n",
       "    </tr>\n",
       "  </thead>\n",
       "  <tbody>\n",
       "    <tr>\n",
       "      <th>False</th>\n",
       "      <td>13</td>\n",
       "      <td>2</td>\n",
       "    </tr>\n",
       "    <tr>\n",
       "      <th>True</th>\n",
       "      <td>45</td>\n",
       "      <td>0</td>\n",
       "    </tr>\n",
       "  </tbody>\n",
       "</table>\n",
       "</div>"
      ],
      "text/plain": [
       "actual  False  True\n",
       "90                 \n",
       "False      13     2\n",
       "True       45     0"
      ]
     },
     "execution_count": 62,
     "metadata": {},
     "output_type": "execute_result"
    }
   ],
   "source": [
    "GCP_contingency_medium"
   ]
  },
  {
   "cell_type": "code",
   "execution_count": 63,
   "metadata": {},
   "outputs": [
    {
     "data": {
      "text/html": [
       "<div>\n",
       "<style scoped>\n",
       "    .dataframe tbody tr th:only-of-type {\n",
       "        vertical-align: middle;\n",
       "    }\n",
       "\n",
       "    .dataframe tbody tr th {\n",
       "        vertical-align: top;\n",
       "    }\n",
       "\n",
       "    .dataframe thead th {\n",
       "        text-align: right;\n",
       "    }\n",
       "</style>\n",
       "<table border=\"1\" class=\"dataframe\">\n",
       "  <thead>\n",
       "    <tr style=\"text-align: right;\">\n",
       "      <th>actual</th>\n",
       "      <th>False</th>\n",
       "    </tr>\n",
       "    <tr>\n",
       "      <th>90</th>\n",
       "      <th></th>\n",
       "    </tr>\n",
       "  </thead>\n",
       "  <tbody>\n",
       "    <tr>\n",
       "      <th>False</th>\n",
       "      <td>10</td>\n",
       "    </tr>\n",
       "    <tr>\n",
       "      <th>True</th>\n",
       "      <td>50</td>\n",
       "    </tr>\n",
       "  </tbody>\n",
       "</table>\n",
       "</div>"
      ],
      "text/plain": [
       "actual  False\n",
       "90           \n",
       "False      10\n",
       "True       50"
      ]
     },
     "execution_count": 63,
     "metadata": {},
     "output_type": "execute_result"
    }
   ],
   "source": [
    "GCP_contingency_bad"
   ]
  },
  {
   "cell_type": "code",
   "execution_count": 64,
   "metadata": {},
   "outputs": [
    {
     "data": {
      "text/html": [
       "<div>\n",
       "<style scoped>\n",
       "    .dataframe tbody tr th:only-of-type {\n",
       "        vertical-align: middle;\n",
       "    }\n",
       "\n",
       "    .dataframe tbody tr th {\n",
       "        vertical-align: top;\n",
       "    }\n",
       "\n",
       "    .dataframe thead th {\n",
       "        text-align: right;\n",
       "    }\n",
       "</style>\n",
       "<table border=\"1\" class=\"dataframe\">\n",
       "  <thead>\n",
       "    <tr style=\"text-align: right;\">\n",
       "      <th>actual</th>\n",
       "      <th>False</th>\n",
       "      <th>True</th>\n",
       "    </tr>\n",
       "    <tr>\n",
       "      <th>90</th>\n",
       "      <th></th>\n",
       "      <th></th>\n",
       "    </tr>\n",
       "  </thead>\n",
       "  <tbody>\n",
       "    <tr>\n",
       "      <th>False</th>\n",
       "      <td>14</td>\n",
       "      <td>3</td>\n",
       "    </tr>\n",
       "    <tr>\n",
       "      <th>True</th>\n",
       "      <td>63</td>\n",
       "      <td>0</td>\n",
       "    </tr>\n",
       "  </tbody>\n",
       "</table>\n",
       "</div>"
      ],
      "text/plain": [
       "actual  False  True\n",
       "90                 \n",
       "False      14     3\n",
       "True       63     0"
      ]
     },
     "execution_count": 64,
     "metadata": {},
     "output_type": "execute_result"
    }
   ],
   "source": [
    "GCP_contingency_good"
   ]
  },
  {
   "cell_type": "code",
   "execution_count": 67,
   "metadata": {},
   "outputs": [],
   "source": [
    "#Sensitivity = TP / (TP + FN)\n",
    "#Specificity = TN / (FP + TN)\n",
    "#PPV = TP / (TP + FP)\n",
    "#NPV = TN / (TN + FN)\n",
    "\n",
    "#medium quality\n",
    "sensitivity_medium = 0\t / (0\t + 2)\n",
    "specificity_medium = 13 / (13 + 45)\n",
    "PPV_medium = 0 / (0 + 13)\n",
    "NPV_medium = 13 / (45 + 2)\n",
    "accuracy_medium = GCP_accuracy_df_medium['Accuracy'].mean()\n",
    "\n",
    "#Bad quality\n",
    "sensitivity_bad = 0\n",
    "specificity_bad = 0\n",
    "PPV_bad = 0\n",
    "NPV_bad = 0\n",
    "accuracy_bad = GCP_accuracy_df_bad['Accuracy'].mean()\n",
    "\n",
    "#Good quality\n",
    "sensitivity_good = 0 / (0 + 3)\n",
    "specificity_good = 14 / (14 + 63)\n",
    "PPV_good = 0 / (0 + 14)\n",
    "NPV_good = 14 / (63 + 3)\n",
    "accuracy_good = GCP_accuracy_df_good['Accuracy'].mean()"
   ]
  },
  {
   "cell_type": "code",
   "execution_count": 68,
   "metadata": {},
   "outputs": [
    {
     "data": {
      "text/plain": [
       "<matplotlib.legend.Legend at 0x7fd18e0156d0>"
      ]
     },
     "execution_count": 68,
     "metadata": {},
     "output_type": "execute_result"
    },
    {
     "data": {
      "image/png": "[encoded data removed]",
      "text/plain": [
       "<Figure size 640x480 with 1 Axes>"
      ]
     },
     "metadata": {
      "needs_background": "light"
     },
     "output_type": "display_data"
    }
   ],
   "source": [
    "import matplotlib.pyplot as plt\n",
    "\n",
    "category = ['Bad', 'Medium', 'Good']\n",
    "\n",
    "Sensitivity = [sensitivity_bad, sensitivity_medium, sensitivity_good]\n",
    "Specificity = [specificity_bad, specificity_medium, specificity_good]\n",
    "PPV = [PPV_bad, PPV_medium, PPV_good]\n",
    "NPV = [NPV_bad, NPV_medium, NPV_good]\n",
    "Accuracy = [accuracy_bad, accuracy_medium, accuracy_good]\n",
    "\n",
    "plt.figure(figsize=(8, 6), dpi=80)\n",
    "plt.plot(category, Sensitivity, marker='o')\n",
    "plt.plot(category, PPV, marker='o')\n",
    "plt.plot(category, Accuracy, marker='o')\n",
    "\n",
    "ax = plt.gca()\n",
    "ax.tick_params(axis = 'both', which = 'major', labelsize = 20)\n",
    "\n",
    "plt.legend(['Sensitivity', 'PPV', 'Accuracy'], prop={'size': 20})\n",
    "#plt.savefig('./recognization_stats/positive.jpg', format='jpg')"
   ]
  },
  {
   "cell_type": "code",
   "execution_count": 69,
   "metadata": {},
   "outputs": [
    {
     "data": {
      "text/plain": [
       "<matplotlib.legend.Legend at 0x7fd1a0695b50>"
      ]
     },
     "execution_count": 69,
     "metadata": {},
     "output_type": "execute_result"
    },
    {
     "data": {
      "image/png": "[encoded data removed]",
      "text/plain": [
       "<Figure size 640x480 with 1 Axes>"
      ]
     },
     "metadata": {
      "needs_background": "light"
     },
     "output_type": "display_data"
    }
   ],
   "source": [
    "plt.figure(figsize=(8, 6), dpi=80)\n",
    "plt.plot(category, Specificity, marker='o')\n",
    "plt.plot(category, NPV, marker='o')\n",
    "\n",
    "ax = plt.gca()\n",
    "ax.tick_params(axis = 'both', which = 'major', labelsize = 20)\n",
    "\n",
    "plt.legend(['Specificity', 'NPV'], prop={'size': 20})\n",
    "#plt.savefig('./recognization_stats/negative.jpg', format='jpg')"
   ]
  },
  {
   "cell_type": "code",
   "execution_count": null,
   "metadata": {},
   "outputs": [],
   "source": []
  }
 ],
 "metadata": {
  "kernelspec": {
   "display_name": "Python 3.9.6 64-bit",
   "language": "python",
   "name": "python3"
  },
  "language_info": {
   "codemirror_mode": {
    "name": "ipython",
    "version": 3
   },
   "file_extension": ".py",
   "mimetype": "text/x-python",
   "name": "python",
   "nbconvert_exporter": "python",
   "pygments_lexer": "ipython3",
   "version": "3.9.6"
  },
  "vscode": {
   "interpreter": {
    "hash": "aee8b7b246df8f9039afb4144a1f6fd8d2ca17a180786b69acc140d282b71a49"
   }
  }
 },
 "nbformat": 4,
 "nbformat_minor": 4
}
